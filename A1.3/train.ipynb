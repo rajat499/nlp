{
 "cells": [
  {
   "cell_type": "code",
   "execution_count": 1,
   "metadata": {},
   "outputs": [],
   "source": [
    "import pandas as pd\n",
    "import numpy as np\n",
    "\n",
    "np.random.seed(0)"
   ]
  },
  {
   "cell_type": "code",
   "execution_count": 2,
   "metadata": {},
   "outputs": [],
   "source": [
    "from sklearn.utils import shuffle\n",
    "from sklearn.feature_extraction.text import CountVectorizer, TfidfVectorizer, TfidfTransformer\n",
    "from sklearn.linear_model import SGDClassifier\n",
    "from sklearn.ensemble import BaggingClassifier\n",
    "from sklearn.metrics import confusion_matrix, precision_score, recall_score\n",
    "from sklearn.feature_selection import SelectPercentile"
   ]
  },
  {
   "cell_type": "code",
   "execution_count": 3,
   "metadata": {},
   "outputs": [],
   "source": [
    "import sys\n",
    "import pickle"
   ]
  },
  {
   "cell_type": "code",
   "execution_count": 4,
   "metadata": {},
   "outputs": [
    {
     "name": "stderr",
     "output_type": "stream",
     "text": [
      "[nltk_data] Error loading wordnet: <urlopen error Tunnel connection\n",
      "[nltk_data]     failed: 302 Moved Temporarily>\n",
      "[nltk_data] Error loading stopwords: <urlopen error Tunnel connection\n",
      "[nltk_data]     failed: 302 Moved Temporarily>\n"
     ]
    }
   ],
   "source": [
    "from util import preprocess, convert_class"
   ]
  },
  {
   "cell_type": "code",
   "execution_count": 5,
   "metadata": {},
   "outputs": [],
   "source": [
    "# if __name__ == \"__main__\":\n",
    "    \n",
    "#     filename = sys.argv[1]\n",
    "#     model_path = sys.argv[2]\n",
    "    \n",
    "#     train = pd.read_csv(filename)\n",
    "#     train = preprocess(train, 'Subject')\n",
    "#     train = preprocess(train, \"Content\")\n",
    "#     df = convert_class(train)\n",
    "    \n",
    "#     vectorizer = TfidfVectorizer().fit(df[\"Subject\"] + \" \" + df[\"Content\"])\n",
    "#     X_train = vectorizer.transform(df[\"Subject\"]+\" \"+df[\"Content\"])\n",
    "    \n",
    "#     vect_path = \"vectorizer.pkl\"  \n",
    "#     with open(vect_path, 'wb') as file:  \n",
    "#         pickle.dump(vectorizer, file)\n",
    "        \n",
    "#     clf = BaggingClassifier(base_estimator=SGDClassifier(), random_state=3, n_estimators=12, n_jobs=-3)\n",
    "#     clf = clf.fit(X_train, df.Class)\n",
    "    \n",
    "#     pred = clf.predict(X_train)\n",
    "#     mat = confusion_matrix(pred, df.Class)\n",
    "#     total = 0\n",
    "#     for i in range(mat.shape[0]):\n",
    "#         total += mat[i][i]/sum(mat[i])\n",
    "\n",
    "#     print(\"Micro Accuraccy: \", total/mat.shape[0]) \n",
    "#     print(\"Macro Accuracy: \", np.mean(pred == df.Class))\n",
    "    \n",
    "#     with open(model_path, 'wb') as file:  \n",
    "#         pickle.dump(clf, file)"
   ]
  },
  {
   "cell_type": "code",
   "execution_count": 7,
   "metadata": {},
   "outputs": [
    {
     "name": "stdout",
     "output_type": "stream",
     "text": [
      "Micro Accuraccy:  0.8403099285709035 Macro Accuracy:  0.827433628318584\n",
      "Score 0.8338717784447438\n"
     ]
    }
   ],
   "source": [
    "train = pd.read_csv(\"train.csv\")\n",
    "train = preprocess(train, 'Subject')\n",
    "train = preprocess(train, \"Content\")\n",
    "df = convert_class(train)\n",
    "\n",
    "val = pd.read_csv(\"val.csv\")\n",
    "val = preprocess(val, \"Subject\")\n",
    "val = preprocess(val, \"Content\")\n",
    "val = convert_class(val)\n",
    "\n",
    "vectorizer = TfidfVectorizer(ngram_range=(1, 3)).fit(df[\"Subject\"] + \" \" + df[\"Content\"])\n",
    "X_train = vectorizer.transform(df[\"Subject\"]+\" \"+df[\"Content\"])\n",
    "\n",
    "select = SelectPercentile(percentile=65)\n",
    "select.fit(X_train, df.Class)\n",
    "tr = select.transform(X_train)\n",
    "\n",
    "clf = BaggingClassifier(base_estimator=SGDClassifier(random_state=0), \n",
    "                        random_state=0, n_estimators=30, n_jobs=-2)\n",
    "clf = clf.fit(tr, df.Class)\n",
    "\n",
    "X_val = select.transform(vectorizer.transform(val[\"Subject\"]+\" \"+val[\"Content\"]))\n",
    "\n",
    "pred = clf.predict(X_val)\n",
    "mat = confusion_matrix(pred, val.Class)\n",
    "total = 0\n",
    "for i in range(mat.shape[0]):\n",
    "    total += mat[i][i]/sum(mat[i])\n",
    "\n",
    "print(\"Micro Accuraccy: \", total/mat.shape[0], \"Macro Accuracy: \", np.mean(pred == val.Class))\n",
    "print(\"Score\", (total/mat.shape[0] + np.mean(pred == val.Class))/2)"
   ]
  },
  {
   "cell_type": "code",
   "execution_count": null,
   "metadata": {},
   "outputs": [],
   "source": [
    "# train = pd.read_csv(\"train.csv\")\n",
    "# train = preprocess(train, 'Subject')\n",
    "# train = preprocess(train, \"Content\")\n",
    "# df = convert_class(train)\n",
    "\n",
    "# val = pd.read_csv(\"val.csv\")\n",
    "# val = preprocess(val, \"Subject\")\n",
    "# val = preprocess(val, \"Content\")\n",
    "# val = convert_class(val)\n",
    "\n",
    "# vectorizer = TfidfVectorizer(ngram_range=(1, 3)).fit(df[\"Subject\"] + \" \" + df[\"Content\"])\n",
    "# X_train = vectorizer.transform(df[\"Subject\"]+\" \"+df[\"Content\"])\n",
    "\n",
    "# select = SelectPercentile(percentile=65)\n",
    "# select.fit(X_train, df.Class)\n",
    "# tr = select.transform(X_train)\n",
    "\n",
    "# clf = BaggingClassifier(base_estimator=SGDClassifier(random_state=0), \n",
    "#                         random_state=0, n_estimators=30, n_jobs=-2)\n",
    "# clf = clf.fit(tr, df.Class)\n",
    "\n",
    "# X_val = select.transform(vectorizer.transform(val[\"Subject\"]+\" \"+val[\"Content\"]))\n",
    "\n",
    "# pred = clf.predict(X_val)\n",
    "# mat = confusion_matrix(pred, val.Class)\n",
    "# total = 0\n",
    "# for i in range(mat.shape[0]):\n",
    "#     total += mat[i][i]/sum(mat[i])\n",
    "\n",
    "# print(\"Micro Accuraccy: \", total/mat.shape[0], \"Macro Accuracy: \", np.mean(pred == val.Class))\n",
    "# print(\"Score\", (total/mat.shape[0] + np.mean(pred == val.Class))/2)"
   ]
  }
 ],
 "metadata": {
  "kernelspec": {
   "display_name": "Python 3",
   "language": "python",
   "name": "python3"
  },
  "language_info": {
   "codemirror_mode": {
    "name": "ipython",
    "version": 3
   },
   "file_extension": ".py",
   "mimetype": "text/x-python",
   "name": "python",
   "nbconvert_exporter": "python",
   "pygments_lexer": "ipython3",
   "version": "3.7.6"
  }
 },
 "nbformat": 4,
 "nbformat_minor": 4
}
