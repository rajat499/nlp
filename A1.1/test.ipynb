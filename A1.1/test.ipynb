{
 "cells": [
  {
   "cell_type": "code",
   "execution_count": 1,
   "metadata": {},
   "outputs": [
    {
     "name": "stderr",
     "output_type": "stream",
     "text": [
      "[nltk_data] Downloading package wordnet to /home/rajat499/nltk_data...\n",
      "[nltk_data]   Package wordnet is already up-to-date!\n",
      "[nltk_data] Downloading package stopwords to\n",
      "[nltk_data]     /home/rajat499/nltk_data...\n",
      "[nltk_data]   Package stopwords is already up-to-date!\n"
     ]
    }
   ],
   "source": [
    "import pandas as pd\n",
    "import numpy as np\n",
    "import sys\n",
    "import sklearn\n",
    "from sklearn.utils import shuffle\n",
    "from sklearn.feature_extraction.text import CountVectorizer, TfidfVectorizer, TfidfTransformer\n",
    "from sklearn.linear_model import SGDClassifier\n",
    "from sklearn.ensemble import BaggingClassifier\n",
    "from sklearn.metrics import confusion_matrix, precision_score, recall_score\n",
    "from util import preprocess, convert_class\n",
    "import pickle\n",
    "import nltk"
   ]
  },
  {
   "cell_type": "code",
   "execution_count": 2,
   "metadata": {},
   "outputs": [
    {
     "ename": "IndexError",
     "evalue": "list index out of range",
     "output_type": "error",
     "traceback": [
      "\u001b[0;31m---------------------------------------------------------------------------\u001b[0m",
      "\u001b[0;31mIndexError\u001b[0m                                Traceback (most recent call last)",
      "\u001b[0;32m<ipython-input-2-b4c61edb387e>\u001b[0m in \u001b[0;36m<module>\u001b[0;34m\u001b[0m\n\u001b[1;32m      3\u001b[0m     \u001b[0mmodel_path\u001b[0m \u001b[0;34m=\u001b[0m \u001b[0msys\u001b[0m\u001b[0;34m.\u001b[0m\u001b[0margv\u001b[0m\u001b[0;34m[\u001b[0m\u001b[0;36m1\u001b[0m\u001b[0;34m]\u001b[0m\u001b[0;34m\u001b[0m\u001b[0;34m\u001b[0m\u001b[0m\n\u001b[1;32m      4\u001b[0m     \u001b[0mfilename\u001b[0m \u001b[0;34m=\u001b[0m \u001b[0msys\u001b[0m\u001b[0;34m.\u001b[0m\u001b[0margv\u001b[0m\u001b[0;34m[\u001b[0m\u001b[0;36m2\u001b[0m\u001b[0;34m]\u001b[0m\u001b[0;34m\u001b[0m\u001b[0;34m\u001b[0m\u001b[0m\n\u001b[0;32m----> 5\u001b[0;31m     \u001b[0mout_path\u001b[0m \u001b[0;34m=\u001b[0m \u001b[0msys\u001b[0m\u001b[0;34m.\u001b[0m\u001b[0margv\u001b[0m\u001b[0;34m[\u001b[0m\u001b[0;36m3\u001b[0m\u001b[0;34m]\u001b[0m\u001b[0;34m\u001b[0m\u001b[0;34m\u001b[0m\u001b[0m\n\u001b[0m\u001b[1;32m      6\u001b[0m \u001b[0;34m\u001b[0m\u001b[0m\n\u001b[1;32m      7\u001b[0m     \u001b[0mtest\u001b[0m \u001b[0;34m=\u001b[0m \u001b[0mpd\u001b[0m\u001b[0;34m.\u001b[0m\u001b[0mread_csv\u001b[0m\u001b[0;34m(\u001b[0m\u001b[0mfilename\u001b[0m\u001b[0;34m)\u001b[0m\u001b[0;34m\u001b[0m\u001b[0;34m\u001b[0m\u001b[0m\n",
      "\u001b[0;31mIndexError\u001b[0m: list index out of range"
     ]
    }
   ],
   "source": [
    "if __name__ == \"__main__\":\n",
    "    \n",
    "    model_path = sys.argv[1]\n",
    "    filename = sys.argv[2]\n",
    "    out_path = sys.argv[3]\n",
    "    \n",
    "    test = pd.read_csv(filename)\n",
    "    test = preprocess(test, 'Subject')\n",
    "    test = preprocess(test, \"Content\")\n",
    "    df = convert_class(test)\n",
    "    \n",
    "    vect_path = \"vectorizer.pkl\"  \n",
    "    with open(vect_path, 'rb') as file:  \n",
    "        vectorizer = pickle.load(file)\n",
    "    \n",
    "    X_val = vectorizer.transform(df[\"Subject\"]+\" \"+df[\"Content\"])\n",
    "    \n",
    "    with open(model_path, 'rb') as file:  \n",
    "        clf = pickle.load(file)\n",
    "    \n",
    "    pred = clf.predict(X_val)\n",
    "    np.savetxt(out_path, pred, fmt='%d', newline='\\n')\n",
    "\n",
    "    mat = confusion_matrix(pred, df.Class)\n",
    "    total = 0\n",
    "    for i in range(mat.shape[0]):\n",
    "        total += mat[i][i]/sum(mat[i])\n",
    "\n",
    "    print(\"Micro Accuraccy: \", total/mat.shape[0]) \n",
    "    print(\"Macro Accuracy: \", np.mean(pred == df.Class))"
   ]
  },
  {
   "cell_type": "code",
   "execution_count": 3,
   "metadata": {},
   "outputs": [
    {
     "name": "stdout",
     "output_type": "stream",
     "text": [
      "Micro Accuraccy:  0.8727165528162585\n",
      "Macro Accuracy:  0.8628318584070797\n"
     ]
    }
   ],
   "source": [
    "model_path = \"email_model\"\n",
    "filename = \"val.csv\"\n",
    "out_path = \"outputfile.txt\"\n",
    "\n",
    "test = pd.read_csv(filename)\n",
    "test = preprocess(test, 'Subject')\n",
    "test = preprocess(test, \"Content\")\n",
    "df = convert_class(test)\n",
    "\n",
    "vect_path = \"vectorizer.pkl\"  \n",
    "with open(vect_path, 'rb') as file:  \n",
    "    vectorizer = pickle.load(file)\n",
    "\n",
    "X_val = vectorizer.transform(df[\"Subject\"]+\" \"+df[\"Content\"])\n",
    "\n",
    "with open(model_path, 'rb') as file:  \n",
    "    clf = pickle.load(file)\n",
    "\n",
    "pred = clf.predict(X_val)\n",
    "np.savetxt(out_path, pred, fmt='%d', newline='\\n')\n",
    "\n",
    "mat = confusion_matrix(pred, df.Class)\n",
    "total = 0\n",
    "for i in range(mat.shape[0]):\n",
    "    total += mat[i][i]/sum(mat[i])\n",
    "\n",
    "print(\"Micro Accuraccy: \", total/mat.shape[0]) \n",
    "print(\"Macro Accuracy: \", np.mean(pred == df.Class))"
   ]
  },
  {
   "cell_type": "code",
   "execution_count": null,
   "metadata": {},
   "outputs": [],
   "source": []
  },
  {
   "cell_type": "code",
   "execution_count": null,
   "metadata": {},
   "outputs": [],
   "source": []
  }
 ],
 "metadata": {
  "kernelspec": {
   "display_name": "Python 3",
   "language": "python",
   "name": "python3"
  },
  "language_info": {
   "codemirror_mode": {
    "name": "ipython",
    "version": 3
   },
   "file_extension": ".py",
   "mimetype": "text/x-python",
   "name": "python",
   "nbconvert_exporter": "python",
   "pygments_lexer": "ipython3",
   "version": "3.7.6"
  }
 },
 "nbformat": 4,
 "nbformat_minor": 4
}
